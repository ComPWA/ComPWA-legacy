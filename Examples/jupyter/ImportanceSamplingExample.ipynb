{
 "cells": [
  {
   "cell_type": "markdown",
   "metadata": {},
   "source": [
    "# Example: Importance Sampling\n",
    "The J/Psi -> gamma pi0 pi0 decay is used here (which has a narrow omega state)\n",
    "\n",
    "Let's go!\n",
    "\n",
    "## Step 1: Define intensity\n",
    "First we create the intensity (If you do not know this step, check other amplitude construting examples using the expert system)."
   ]
  },
  {
   "cell_type": "code",
   "execution_count": null,
   "metadata": {
    "scrolled": true
   },
   "outputs": [],
   "source": [
    "from expertsystem.ui.system_control import (\n",
    "    StateTransitionManager, InteractionTypes)\n",
    "from expertsystem.amplitude.helicitydecay import (\n",
    "    HelicityDecayAmplitudeGeneratorXML)\n",
    "from expertsystem.topology.graph import (\n",
    "    get_intermediate_state_edges)\n",
    "from expertsystem.state.particle import (\n",
    "    get_particle_with_name, particle_list)\n",
    "    \n",
    "initial_state = [(\"J/psi\", [-1, 1])]\n",
    "final_state = [(\"gamma\", [-1, 1]), (\"pi0\", [0]), (\"pi0\", [0])]\n",
    "\n",
    "tbd_manager = StateTransitionManager(initial_state, final_state,\n",
    "                                     formalism_type='helicity',\n",
    "                                     topology_building='isobar')\n",
    "\n",
    "# The omega is so narrow that the hit&miss generation takes way too long.\n",
    "# Therefore we increase the width artificially in this example!\n",
    "omega = get_particle_with_name('omega')\n",
    "parameters = omega['DecayInfo']['Parameter']\n",
    "for par in parameters:\n",
    "    if par['@Type'] == 'Width':\n",
    "        par['Value'] = 0.001\n",
    "\n",
    "tbd_manager.set_allowed_interaction_types(\n",
    "    [InteractionTypes.Strong, InteractionTypes.EM])\n",
    "tbd_manager.allowed_intermediate_particles = ['f2(1270)', 'omega']\n",
    "graph_interaction_settings_groups = tbd_manager.prepare_graphs()\n",
    "(solutions, violated_rules) = tbd_manager.find_solutions(\n",
    "        graph_interaction_settings_groups)\n",
    "\n",
    "print(\"found \" + str(len(solutions)) + \" solutions!\")\n",
    "\n",
    "xml_generator = HelicityDecayAmplitudeGeneratorXML()\n",
    "xml_generator.generate(solutions)\n",
    "xml_generator.write_to_file('model.xml')"
   ]
  },
  {
   "cell_type": "markdown",
   "metadata": {},
   "source": [
    "## Step 2: Create intensity and generate importance weighted phase space sample\n",
    "Now we generate a phase space sample which is importance sampled by the intensity"
   ]
  },
  {
   "cell_type": "code",
   "execution_count": null,
   "metadata": {},
   "outputs": [],
   "source": [
    "# pycompwa is the python interface to ComPWA's c++ modules\n",
    "import pycompwa as pwa\n",
    "\n",
    "# Create particle list\n",
    "particle_list = pwa.PartList()\n",
    "with open('model.xml', 'r') as content_file:\n",
    "    model_file_contents = content_file.read()\n",
    "    pwa.read_particles(particle_list, model_file_contents)\n",
    "\n",
    "# Create kinematics\n",
    "kin = pwa.HelicityKinematics(particle_list, 'model.xml')\n",
    "\n",
    "# Generate phase space sample (flat) used for amplitude normalization\n",
    "gen = pwa.EvtGenGenerator(particle_list, kin, 12345)\n",
    "phsp_sample = pwa.generate_phsp(100000, gen)\n",
    "\n",
    "# Create Amplitude\n",
    "with open('model.xml', 'r') as content_file:\n",
    "    model_file_contents = content_file.read()\n",
    "    intensity = pwa.incoherent_intensity(model_file_contents, \n",
    "                                         particle_list,\n",
    "                                         kin, phsp_sample,\n",
    "                                         phsp_sample)\n",
    "\n",
    "# Generate importance sampled phase space sample\n",
    "phsp_sample_importance = pwa.generate_importance_sampled_phsp(1000, kin, gen, intensity)\n",
    "\n",
    "\n",
    "# Generate Data\n",
    "#sample = pwa.generate(1000, kin, gen, intensity)"
   ]
  },
  {
   "cell_type": "markdown",
   "metadata": {},
   "source": [
    "## Step 3: Visualize the phase space sample\n",
    "Let's go ahead and make a Dalitz plot of this phase space sample. We use the direct access of the python interface to the data points!"
   ]
  },
  {
   "cell_type": "code",
   "execution_count": null,
   "metadata": {
    "scrolled": true
   },
   "outputs": [],
   "source": [
    "# create all subsystems \n",
    "#(since we have both f and the omega resonances, all subsystems already exist and this\n",
    "#step is redundant)\n",
    "kin.create_all_subsystems()\n",
    "\n",
    "import numpy as np\n",
    "# use the direct data point access via DataPoints\n",
    "data_points = pwa.DataPoints(phsp_sample_importance, kin)\n",
    "data_array = np.array(data_points)\n",
    "variable_names = data_points.get_variable_names()\n",
    "print(variable_names)\n",
    "\n",
    "# check that the sum of weights is equal to the number of events (should be 1000)!\n",
    "print(\"sum of weights (should be 1000):\", sum(data_array[:,variable_names.index(\"weight\")]))\n",
    "\n",
    "# Plotting\n",
    "from Plotting.plot import (\n",
    "    make_dalitz_plots, PlotData\n",
    ")\n",
    "\n",
    "plotdata = PlotData(column_names=variable_names, data_array=data_array)\n",
    "plotdata.particle_id_to_name_mapping = data_points.get_finalstate_id_to_name_mapping()\n",
    "# plot a 2d histogram\n",
    "make_dalitz_plots(plotdata, [\"mSq_3_4_vs_2\", \"mSq_2_4_vs_3\"], bins=50)"
   ]
  }
 ],
 "metadata": {
  "kernelspec": {
   "display_name": "Python 3",
   "language": "python",
   "name": "python3"
  },
  "language_info": {
   "codemirror_mode": {
    "name": "ipython",
    "version": 3
   },
   "file_extension": ".py",
   "mimetype": "text/x-python",
   "name": "python",
   "nbconvert_exporter": "python",
   "pygments_lexer": "ipython3",
   "version": "3.6.5"
  }
 },
 "nbformat": 4,
 "nbformat_minor": 2
}
